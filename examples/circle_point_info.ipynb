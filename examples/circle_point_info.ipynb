{
 "cells": [
  {
   "cell_type": "code",
   "execution_count": 1,
   "metadata": {},
   "outputs": [],
   "source": [
    "# Data wrangling\n",
    "import numpy as np\n",
    "import pandas as pd  # Not a requirement of giotto-tda, but is compatible with the gtda.mapper module\n",
    "\n",
    "# Data viz\n",
    "import plotly.graph_objects as go\n",
    "import plotly.express as px\n",
    "\n",
    "from ipywidgets import HTML, HBox, VBox, Image, Layout\n",
    "\n",
    "# TDA magic\n",
    "from gtda.mapper import (\n",
    "    CubicalCover,\n",
    "    make_mapper_pipeline,\n",
    "    Projection,\n",
    "    plot_static_mapper_graph,\n",
    "    plot_interactive_mapper_graph,\n",
    ")\n",
    "from gtda.mapper.utils.visualization import set_node_sizeref\n",
    "\n",
    "# ML tools\n",
    "from sklearn import datasets\n",
    "from sklearn.cluster import DBSCAN\n",
    "from sklearn.decomposition import PCA\n",
    "\n",
    "import warnings\n",
    "\n",
    "warnings.simplefilter(action=\"ignore\", category=FutureWarning)"
   ]
  },
  {
   "cell_type": "code",
   "execution_count": 2,
   "metadata": {},
   "outputs": [
    {
     "data": {
      "application/vnd.jupyter.widget-view+json": {
       "model_id": "8f90b0e140174a9883aa8d930075dfcf",
       "version_major": 2,
       "version_minor": 0
      },
      "text/plain": [
       "FigureWidget({\n",
       "    'data': [{'mode': 'markers',\n",
       "              'type': 'scatter',\n",
       "              'uid': '3074a5b…"
      ]
     },
     "metadata": {},
     "output_type": "display_data"
    }
   ],
   "source": [
    "data, _ = datasets.make_circles(n_samples=5000, noise=0.05, factor=0.3, random_state=42)\n",
    "\n",
    "fig= go.FigureWidget(\n",
    "    data=[\n",
    "        dict\n",
    "            (\n",
    "            type='scatter',\n",
    "            x=data[:, 0], \n",
    "            y=data[:, 1], \n",
    "            mode=\"markers\",\n",
    "            )\n",
    "        ],\n",
    ")\n",
    "fig.layout.hovermode = 'closest'\n",
    "fig"
   ]
  },
  {
   "cell_type": "code",
   "execution_count": 3,
   "metadata": {},
   "outputs": [],
   "source": [
    "# Define filter function - can be any scikit-learn transformer\n",
    "filter_func = Projection(columns=[0, 1])\n",
    "# Define cover\n",
    "cover = CubicalCover(n_intervals=10, overlap_frac=0.3)\n",
    "# Choose clustering algorithm - default is DBSCAN\n",
    "clusterer = DBSCAN()\n",
    "\n",
    "# Configure parallelism of clustering step\n",
    "n_jobs = 1\n",
    "\n",
    "# Initialise pipeline\n",
    "pipe = make_mapper_pipeline(\n",
    "    filter_func=filter_func,\n",
    "    cover=cover,\n",
    "    clusterer=clusterer,\n",
    "    verbose=False,\n",
    "    n_jobs=n_jobs,\n",
    ")"
   ]
  },
  {
   "cell_type": "code",
   "execution_count": 4,
   "metadata": {},
   "outputs": [],
   "source": [
    "fig_mapper = plot_static_mapper_graph(pipe, data)\n",
    "# Display figure\n",
    "#fig_mapper.show(config={\"scrollZoom\": True})"
   ]
  },
  {
   "cell_type": "code",
   "execution_count": 5,
   "metadata": {},
   "outputs": [],
   "source": [
    "img_rgb = np.array([[[255, 0, 0], [0, 255, 0], [0, 0, 255]],\n",
    "                    [[0, 255, 0], [0, 0, 255], [255, 0, 0]],\n",
    "                    [[0, 255, 255], [255, 0, 255], [0, 255, 0]]\n",
    "                   ], dtype=np.uint8)\n",
    "fig_matrix = go.FigureWidget(go.Image(z=img_rgb))\n",
    "# fig_matrix.show()"
   ]
  },
  {
   "cell_type": "code",
   "execution_count": 6,
   "metadata": {},
   "outputs": [
    {
     "data": {
      "text/plain": [
       "Scatter({\n",
       "    'hoverinfo': 'text',\n",
       "    'hovertext': [Node ID:0<br>Node size:4, Node ID:1<br>Node size:60, Node\n",
       "                  ID:2<br>Node size:122, Node ID:3<br>Node size:130, Node\n",
       "                  ID:4<br>Node size:129, Node ID:5<br>Node size:125, Node\n",
       "                  ID:6<br>Node size:88, Node ID:7<br>Node size:8, Node ID:8<br>Node\n",
       "                  size:6, Node ID:9<br>Node size:91, Node ID:10<br>Node size:132,\n",
       "                  Node ID:11<br>Node size:58, Node ID:12<br>Node size:14, Node\n",
       "                  ID:13<br>Node size:11, Node ID:14<br>Node size:50, Node\n",
       "                  ID:15<br>Node size:122, Node ID:16<br>Node size:118, Node\n",
       "                  ID:17<br>Node size:8, Node ID:18<br>Node size:65, Node\n",
       "                  ID:19<br>Node size:136, Node ID:20<br>Node size:15, Node\n",
       "                  ID:21<br>Node size:1, Node ID:22<br>Node size:4, Node\n",
       "                  ID:23<br>Node size:1, Node ID:24<br>Node size:7, Node\n",
       "                  ID:25<br>Node size:134, Node ID:26<br>Node size:86, Node\n",
       "                  ID:27<br>Node size:119, Node ID:28<br>Node size:76, Node\n",
       "                  ID:29<br>Node size:108, Node ID:30<br>Node size:387, Node\n",
       "                  ID:31<br>Node size:421, Node ID:32<br>Node size:160, Node\n",
       "                  ID:33<br>Node size:35, Node ID:34<br>Node size:117, Node\n",
       "                  ID:35<br>Node size:131, Node ID:36<br>Node size:25, Node\n",
       "                  ID:37<br>Node size:5, Node ID:38<br>Node size:369, Node\n",
       "                  ID:39<br>Node size:363, Node ID:40<br>Node size:272, Node\n",
       "                  ID:41<br>Node size:418, Node ID:42<br>Node size:14, Node\n",
       "                  ID:43<br>Node size:6, Node ID:44<br>Node size:134, Node\n",
       "                  ID:45<br>Node size:127, Node ID:46<br>Node size:25, Node\n",
       "                  ID:47<br>Node size:6, Node ID:48<br>Node size:378, Node\n",
       "                  ID:49<br>Node size:392, Node ID:50<br>Node size:269, Node\n",
       "                  ID:51<br>Node size:433, Node ID:52<br>Node size:16, Node\n",
       "                  ID:53<br>Node size:4, Node ID:54<br>Node size:126, Node\n",
       "                  ID:55<br>Node size:119, Node ID:56<br>Node size:69, Node\n",
       "                  ID:57<br>Node size:110, Node ID:58<br>Node size:398, Node\n",
       "                  ID:59<br>Node size:424, Node ID:60<br>Node size:177, Node\n",
       "                  ID:61<br>Node size:2, Node ID:62<br>Node size:36, Node\n",
       "                  ID:63<br>Node size:132, Node ID:64<br>Node size:65, Node\n",
       "                  ID:65<br>Node size:135, Node ID:66<br>Node size:15, Node\n",
       "                  ID:67<br>Node size:4, Node ID:68<br>Node size:11, Node\n",
       "                  ID:69<br>Node size:11, Node ID:70<br>Node size:118, Node\n",
       "                  ID:71<br>Node size:92, Node ID:72<br>Node size:4, Node\n",
       "                  ID:73<br>Node size:89, Node ID:74<br>Node size:135, Node\n",
       "                  ID:75<br>Node size:63, Node ID:76<br>Node size:13, Node\n",
       "                  ID:77<br>Node size:11, Node ID:78<br>Node size:46, Node\n",
       "                  ID:79<br>Node size:118, Node ID:80<br>Node size:115, Node\n",
       "                  ID:81<br>Node size:17, Node ID:82<br>Node size:4, Node\n",
       "                  ID:83<br>Node size:55, Node ID:84<br>Node size:118, Node\n",
       "                  ID:85<br>Node size:121, Node ID:86<br>Node size:124, Node\n",
       "                  ID:87<br>Node size:128, Node ID:88<br>Node size:76, Node\n",
       "                  ID:89<br>Node size:16],\n",
       "    'marker': {'cmax': 1.0,\n",
       "               'cmin': 0.0,\n",
       "               'color': [#440154, #481467, #482173, #46337f, #3f4889, #34618d,\n",
       "                         #2c718e, #25838e, #440154, #471063, #48186a, #482374,\n",
       "                         #453882, #3a538b, #306a8e, #287d8e, #20928c, #20a486,\n",
       "                         #481668, #48186a, #481d6f, #2d708e, #297b8e, #25848e,\n",
       "                         #20928c, #20a486, #29af7f, #482475, #482475, #2e6e8e,\n",
       "                         #2b758e, #25848e, #20928c, #35b779, #4ac16d, #453781,\n",
       "                         #443983, #2c738e, #2b758e, #2a788e, #21908d, #1fa088,\n",
       "                         #29af7f, #5ec962, #7cd250, #3e4a89, #39568c, #2c738e,\n",
       "                         #25858e, #20928c, #26ad81, #2cb17e, #32b67a, #9bd93c,\n",
       "                         #aadc32, #34618d, #30698e, #20928c, #1f9f88, #28ae80,\n",
       "                         #34b679, #44bf70, #cae11f, #d0e11c, #2c738e, #277f8e,\n",
       "                         #218f8d, #2db27d, #34b679, #d8e219, #e5e419, #e7e419,\n",
       "                         #26828e, #20928c, #20a386, #35b779, #60ca60, #90d743,\n",
       "                         #c8e020, #e5e419, #f1e51d, #fde725, #21a585, #2cb17e,\n",
       "                         #46c06f, #75d054, #a5db36, #cae11f, #eae51a, #fde725],\n",
       "               'colorbar': {'thickness': 15, 'title': {'side': 'right', 'text': ''}, 'xanchor': 'left'},\n",
       "               'colorscale': [[0.0, '#440154'], [0.1111111111111111, '#482878'],\n",
       "                              [0.2222222222222222, '#3e4989'], [0.3333333333333333,\n",
       "                              '#31688e'], [0.4444444444444444, '#26828e'],\n",
       "                              [0.5555555555555556, '#1f9e89'], [0.6666666666666666,\n",
       "                              '#35b779'], [0.7777777777777778, '#6ece58'],\n",
       "                              [0.8888888888888888, '#b5de2b'], [1.0, '#fde725']],\n",
       "               'line': {'color': '#888', 'width': 2},\n",
       "               'reversescale': False,\n",
       "               'showscale': True,\n",
       "               'size': [4, 60, 122, 130, 129, 125, 88, 8, 6, 91, 132, 58, 14, 11,\n",
       "                        50, 122, 118, 8, 65, 136, 15, 1, 4, 1, 7, 134, 86, 119, 76,\n",
       "                        108, 387, 421, 160, 35, 117, 131, 25, 5, 369, 363, 272,\n",
       "                        418, 14, 6, 134, 127, 25, 6, 378, 392, 269, 433, 16, 4,\n",
       "                        126, 119, 69, 110, 398, 424, 177, 2, 36, 132, 65, 135, 15,\n",
       "                        4, 11, 11, 118, 92, 4, 89, 135, 63, 13, 11, 46, 118, 115,\n",
       "                        17, 4, 55, 118, 121, 124, 128, 76, 16],\n",
       "               'sizemin': 4,\n",
       "               'sizemode': 'area',\n",
       "               'sizeref': 6.013888888888889},\n",
       "    'mode': 'markers',\n",
       "    'text': [Node ID:0<br>Node size:4, Node ID:1<br>Node size:60, Node\n",
       "             ID:2<br>Node size:122, Node ID:3<br>Node size:130, Node ID:4<br>Node\n",
       "             size:129, Node ID:5<br>Node size:125, Node ID:6<br>Node size:88, Node\n",
       "             ID:7<br>Node size:8, Node ID:8<br>Node size:6, Node ID:9<br>Node\n",
       "             size:91, Node ID:10<br>Node size:132, Node ID:11<br>Node size:58, Node\n",
       "             ID:12<br>Node size:14, Node ID:13<br>Node size:11, Node ID:14<br>Node\n",
       "             size:50, Node ID:15<br>Node size:122, Node ID:16<br>Node size:118,\n",
       "             Node ID:17<br>Node size:8, Node ID:18<br>Node size:65, Node\n",
       "             ID:19<br>Node size:136, Node ID:20<br>Node size:15, Node ID:21<br>Node\n",
       "             size:1, Node ID:22<br>Node size:4, Node ID:23<br>Node size:1, Node\n",
       "             ID:24<br>Node size:7, Node ID:25<br>Node size:134, Node ID:26<br>Node\n",
       "             size:86, Node ID:27<br>Node size:119, Node ID:28<br>Node size:76, Node\n",
       "             ID:29<br>Node size:108, Node ID:30<br>Node size:387, Node\n",
       "             ID:31<br>Node size:421, Node ID:32<br>Node size:160, Node\n",
       "             ID:33<br>Node size:35, Node ID:34<br>Node size:117, Node ID:35<br>Node\n",
       "             size:131, Node ID:36<br>Node size:25, Node ID:37<br>Node size:5, Node\n",
       "             ID:38<br>Node size:369, Node ID:39<br>Node size:363, Node\n",
       "             ID:40<br>Node size:272, Node ID:41<br>Node size:418, Node\n",
       "             ID:42<br>Node size:14, Node ID:43<br>Node size:6, Node ID:44<br>Node\n",
       "             size:134, Node ID:45<br>Node size:127, Node ID:46<br>Node size:25,\n",
       "             Node ID:47<br>Node size:6, Node ID:48<br>Node size:378, Node\n",
       "             ID:49<br>Node size:392, Node ID:50<br>Node size:269, Node\n",
       "             ID:51<br>Node size:433, Node ID:52<br>Node size:16, Node ID:53<br>Node\n",
       "             size:4, Node ID:54<br>Node size:126, Node ID:55<br>Node size:119, Node\n",
       "             ID:56<br>Node size:69, Node ID:57<br>Node size:110, Node ID:58<br>Node\n",
       "             size:398, Node ID:59<br>Node size:424, Node ID:60<br>Node size:177,\n",
       "             Node ID:61<br>Node size:2, Node ID:62<br>Node size:36, Node\n",
       "             ID:63<br>Node size:132, Node ID:64<br>Node size:65, Node ID:65<br>Node\n",
       "             size:135, Node ID:66<br>Node size:15, Node ID:67<br>Node size:4, Node\n",
       "             ID:68<br>Node size:11, Node ID:69<br>Node size:11, Node ID:70<br>Node\n",
       "             size:118, Node ID:71<br>Node size:92, Node ID:72<br>Node size:4, Node\n",
       "             ID:73<br>Node size:89, Node ID:74<br>Node size:135, Node ID:75<br>Node\n",
       "             size:63, Node ID:76<br>Node size:13, Node ID:77<br>Node size:11, Node\n",
       "             ID:78<br>Node size:46, Node ID:79<br>Node size:118, Node ID:80<br>Node\n",
       "             size:115, Node ID:81<br>Node size:17, Node ID:82<br>Node size:4, Node\n",
       "             ID:83<br>Node size:55, Node ID:84<br>Node size:118, Node ID:85<br>Node\n",
       "             size:121, Node ID:86<br>Node size:124, Node ID:87<br>Node size:128,\n",
       "             Node ID:88<br>Node size:76, Node ID:89<br>Node size:16],\n",
       "    'uid': 'afb234d3-853d-48a7-9f1b-aa8945ed2743',\n",
       "    'x': [3.131244834512655, 2.5605970575666706, 1.8556807811591707,\n",
       "          1.2013034426917888, 0.20356946226723244, -0.5018383865700087,\n",
       "          -1.2394246722372313, -1.8565705095531633, 4.0645921390304025,\n",
       "          3.2330044753146523, 2.6652878041824333, 1.9250558637795736,\n",
       "          0.9692150561209221, 0.21541144474609386, -0.6216415839027493,\n",
       "          -1.1921039320650144, -1.666950302559476, -1.9840931118490377,\n",
       "          3.2025717856557803, 3.2944564995635064, 3.4142561300733876,\n",
       "          -6.07582774441956, -6.2819039104992385, -6.438808200237144,\n",
       "          -2.005556631896067, -1.7910412163138212, -2.458430594521208,\n",
       "          3.634576102008816, 3.192181431040231, -5.123785037169228,\n",
       "          -5.489719371771748, -5.929802827904717, -6.6125958111849945,\n",
       "          -1.7156826862520673, -2.081119619086679, 3.8701421368491773,\n",
       "          3.516212351783967, -4.017853924147904, -4.741966711387554,\n",
       "          -5.127891814616342, -5.816719958485711, -6.110943675518445,\n",
       "          -6.407927159692557, -2.0004589046046855, -1.9898148468042902,\n",
       "          4.022709793992897, 4.298177021297116, -3.808445482249195,\n",
       "          -4.337846266600915, -4.706997939572511, -5.400833551862528,\n",
       "          -5.785544971261982, -6.498121198038808, -1.8595499441385295,\n",
       "          -1.4016201805233133, 4.457460797330467, 4.010692457979923,\n",
       "          -3.9434305641560523, -4.67730955905014, -5.1466585780919765,\n",
       "          -5.654384228310076, -6.0120397631866185, -1.1293727563480502,\n",
       "          -1.39106589719046, 4.377857456643639, 4.031733101844298,\n",
       "          3.6348726052863882, -4.477569061866502, -4.715869791716174,\n",
       "          -1.073784451072525, -0.9904180419603332, -1.3281245308303942,\n",
       "          4.810601907960578, 4.093078020727089, 3.3252769722329156,\n",
       "          2.560489353634921, 1.805692433366929, 1.2177976266383865,\n",
       "          0.3467332947613795, -0.3371577979435224, -0.8561449399225922,\n",
       "          -1.45657304616245, 4.005890004108582, 3.232397785846878,\n",
       "          2.6454702723594776, 1.8439591815956997, 0.991355916549512,\n",
       "          0.5007953374618455, -0.27044321387309567, -0.8346024911912975],\n",
       "    'y': [3.8405470297671713, 3.8907432081494733, 3.267137417709356,\n",
       "          3.5490869006819827, 3.7016299740836245, 3.8337320901036165,\n",
       "          3.53385407868018, 3.8346581600153953, 3.0906040330093645,\n",
       "          3.146650066203822, 3.121756604082934, 3.7597759227472443,\n",
       "          3.438136391154191, 3.494136382473668, 3.4273336897209528,\n",
       "          3.2018615833511164, 2.9866318914130856, 2.4023717901716717,\n",
       "          2.3953573321000485, 2.466327151562422, 2.8966986861899096,\n",
       "          -0.3599375585050388, -0.6407170222178558, -0.7561147463433007,\n",
       "          2.976226312081983, 2.5545137305872587, 2.4596055366030756,\n",
       "          1.6908984281421984, 1.636370659340645, -0.6068793988084951,\n",
       "          -0.7471298285892035, -1.1991501006248422, -1.4366890762726117,\n",
       "          1.6186565145968845, 1.6998109353595596, 0.9499074145860199,\n",
       "          0.9901687160769731, -0.9455915152516965, -1.2372462468332144,\n",
       "          -1.3258876821404995, -1.7247391315616034, -2.0388295789486155,\n",
       "          -2.5680066112228688, 0.9381761319057671, 0.743123945968797,\n",
       "          0.2882434496025431, 0.45916002787639776, -1.3613066488804426,\n",
       "          -1.766763805342687, -2.017809768215308, -2.432370341442131,\n",
       "          -2.5665485597525803, -2.908278737428764, 0.03912243493482004,\n",
       "          0.1629104395512353, -0.31080904333026893, -0.47425188991288875,\n",
       "          -2.447959434725502, -2.66456168061902, -2.8984398424283224,\n",
       "          -3.1266027078176153, -3.3831212499545913, -0.6084948541626958,\n",
       "          -0.7218171562713066, -0.9975196911181855, -1.2533350849388658,\n",
       "          -1.567863699310221, -3.3239224606830073, -3.5406679076576024,\n",
       "          -2.1222729776823717, -1.506162872228747, -1.4371142217704596,\n",
       "          -1.4766337452598723, -1.8893442922897372, -1.9557608312302315,\n",
       "          -2.2232800482582236, -2.328366488031084, -2.805984300108804,\n",
       "          -2.7866877585451824, -2.131781728432749, -2.256615389244773,\n",
       "          -2.0818523097137276, -2.587643982122616, -2.554578803708462,\n",
       "          -2.6325263204576785, -2.6882973222384567, -2.540127963144713,\n",
       "          -2.168056707975897, -2.7660395505627715, -2.9918234972840496]\n",
       "})"
      ]
     },
     "execution_count": 6,
     "metadata": {},
     "output_type": "execute_result"
    }
   ],
   "source": [
    "scatter = fig_mapper.data[1]\n",
    "scatter\n",
    "#print(len(scatter_mapper))"
   ]
  },
  {
   "cell_type": "code",
   "execution_count": 7,
   "metadata": {},
   "outputs": [
    {
     "data": {
      "text/plain": [
       "dict_keys(['node_id', 'pullback_set_label', 'partial_cluster_label', 'node_elements'])"
      ]
     },
     "execution_count": 7,
     "metadata": {},
     "output_type": "execute_result"
    }
   ],
   "source": [
    "graph = pipe.fit_transform(data)\n",
    "graph[\"node_metadata\"].keys()"
   ]
  },
  {
   "cell_type": "code",
   "execution_count": 8,
   "metadata": {},
   "outputs": [
    {
     "name": "stdout",
     "output_type": "stream",
     "text": [
      "Node Id: 0, \n",
      "Node elements: [1675 1944 2425 4464], \n",
      "Data points: [[-0.85719291 -0.74172245]\n",
      " [-0.88187702 -0.69106254]\n",
      " [-0.8881879  -0.63188784]\n",
      " [-0.84665374 -0.73453227]]\n"
     ]
    }
   ],
   "source": [
    "node_id, node_elements = (graph[\"node_metadata\"][\"node_id\"],\n",
    "                          graph[\"node_metadata\"][\"node_elements\"],\n",
    "                          )\n",
    "\n",
    "print(\"Node Id: {}, \\nNode elements: {}, \\nData points: {}\".format(node_id[0], \n",
    "                                                                 node_elements[0], \n",
    "                                                                 data[node_elements[0]]\n",
    "                                                                 )\n",
    ")"
   ]
  },
  {
   "cell_type": "code",
   "execution_count": 9,
   "metadata": {},
   "outputs": [
    {
     "data": {
      "text/plain": [
       "-0.8684778940159361"
      ]
     },
     "execution_count": 9,
     "metadata": {},
     "output_type": "execute_result"
    }
   ],
   "source": [
    "indices = node_elements[0]\n",
    "indices\n",
    "\n",
    "x_mean = np.mean(data[indices], axis=0)\n",
    "x_mean[0]"
   ]
  },
  {
   "cell_type": "code",
   "execution_count": 23,
   "metadata": {},
   "outputs": [],
   "source": [
    "node_stats = HTML()\n",
    "\n",
    "# Config for to_html() is Pandas, not Plotly or ipywidgets\n",
    "pandas_config={'titleText': True}\n",
    "\n",
    "\n",
    "def hover_node_stats(trace, points, state):\n",
    "    ind = points.point_inds\n",
    "    indices = node_elements[int(ind[0])]\n",
    "    values = pd.DataFrame(data[indices])\n",
    "    values.columns = ['x', 'y']\n",
    "    x_mean = values.mean()\n",
    "    x_mean.name = 'Mean values of features'\n",
    "    node_stats.value = x_mean.to_frame().to_html(header=True)\n",
    "\n",
    "    \n",
    "scatter.on_hover(hover_node_stats)"
   ]
  },
  {
   "cell_type": "code",
   "execution_count": 24,
   "metadata": {},
   "outputs": [],
   "source": [
    "v_box_layout = Layout(display='flex',\n",
    "                      flex_flow='row',\n",
    "                      align_items='center',\n",
    "                      justify_content='center',\n",
    "                      width='80%')\n",
    "\n"
   ]
  },
  {
   "cell_type": "code",
   "execution_count": 25,
   "metadata": {},
   "outputs": [
    {
     "data": {
      "application/vnd.jupyter.widget-view+json": {
       "model_id": "5989bbbcfd2b4391954a0c0e894b3851",
       "version_major": 2,
       "version_minor": 0
      },
      "text/plain": [
       "VBox(children=(FigureWidget({\n",
       "    'data': [{'hoverinfo': 'none',\n",
       "              'line': {'color': '#888', 'widt…"
      ]
     },
     "metadata": {},
     "output_type": "display_data"
    }
   ],
   "source": [
    "dashboard = VBox([fig_mapper, \n",
    "                  HBox([node_stats, fig_matrix], layout=v_box_layout)\n",
    "                 ])\n",
    "dashboard"
   ]
  }
 ],
 "metadata": {
  "kernelspec": {
   "display_name": "Python 3",
   "language": "python",
   "name": "python3"
  },
  "language_info": {
   "codemirror_mode": {
    "name": "ipython",
    "version": 3
   },
   "file_extension": ".py",
   "mimetype": "text/x-python",
   "name": "python",
   "nbconvert_exporter": "python",
   "pygments_lexer": "ipython3",
   "version": "3.7.5"
  }
 },
 "nbformat": 4,
 "nbformat_minor": 4
}
