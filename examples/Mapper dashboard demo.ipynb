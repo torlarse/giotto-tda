{
 "cells": [
  {
   "cell_type": "code",
   "execution_count": null,
   "metadata": {},
   "outputs": [],
   "source": [
    "# Data wrangling\n",
    "import numpy as np\n",
    "import pandas as pd  # Not a requirement of giotto-tda, but is compatible with the gtda.mapper module\n",
    "\n",
    "# Data viz\n",
    "import plotly.graph_objects as go\n",
    "import plotly.express as px\n",
    "\n",
    "from ipywidgets import HTML, HBox, VBox, Image, Layout\n",
    "\n",
    "# tda magic\n",
    "from gtda.mapper.cluster import FirstSimpleGap\n",
    "from gtda.mapper.cluster import FirstHistogramGap\n",
    "\n",
    "# TDA magic\n",
    "from gtda.mapper import (\n",
    "    CubicalCover,\n",
    "    make_mapper_pipeline,\n",
    "    Projection,\n",
    "    plot_static_mapper_graph,\n",
    "    plot_interactive_mapper_graph,\n",
    ")\n",
    "from gtda.mapper.utils.visualization import set_node_sizeref\n",
    "\n",
    "# ML tools\n",
    "\n",
    "from sklearn.cluster import DBSCAN\n",
    "from sklearn.decomposition import PCA\n",
    "\n",
    "import warnings\n",
    "\n",
    "warnings.simplefilter(action=\"ignore\", category=FutureWarning)"
   ]
  },
  {
   "cell_type": "code",
   "execution_count": null,
   "metadata": {},
   "outputs": [],
   "source": [
    "def mean_weight_matrix(point_cloud, indices):\n",
    "    # Load a list of indices for desired cluster\n",
    "    # spatial_map_series = [point_cloud.iloc[index] for index in indices_from_node]\n",
    "    spatial_map_dataframe = point_cloud.iloc[indices]\n",
    "    spatial_map_mean = spatial_map_dataframe.mean()\n",
    "    spatial_map_matrix = spatial_map_mean.values.reshape(3,3)\n",
    "    return spatial_map_matrix"
   ]
  }
 ],
 "metadata": {
  "kernelspec": {
   "display_name": "Python 3",
   "language": "python",
   "name": "python3"
  },
  "language_info": {
   "name": ""
  }
 },
 "nbformat": 4,
 "nbformat_minor": 4
}
